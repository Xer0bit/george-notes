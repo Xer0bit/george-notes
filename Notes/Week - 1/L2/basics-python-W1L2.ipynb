{
 "cells": [
  {
   "metadata": {},
   "cell_type": "markdown",
   "source": "",
   "id": "55f7c9e3a0bc718e"
  },
  {
   "metadata": {},
   "cell_type": "markdown",
   "source": "# The Basics ",
   "id": "a9e161f34466f314"
  },
  {
   "metadata": {
    "ExecuteTime": {
     "end_time": "2024-09-14T10:21:22.885190Z",
     "start_time": "2024-09-14T10:21:22.881093Z"
    }
   },
   "cell_type": "code",
   "source": [
    "a = 1\n",
    "a"
   ],
   "id": "88d1eccd3aafd150",
   "outputs": [
    {
     "data": {
      "text/plain": [
       "1"
      ]
     },
     "execution_count": 6,
     "metadata": {},
     "output_type": "execute_result"
    }
   ],
   "execution_count": 6
  },
  {
   "metadata": {
    "ExecuteTime": {
     "end_time": "2024-09-14T10:24:03.128344Z",
     "start_time": "2024-09-14T10:24:03.124384Z"
    }
   },
   "cell_type": "code",
   "source": "a , c , b = 1 , 2.43 , \"rare\"",
   "id": "d4c1d14638838c80",
   "outputs": [],
   "execution_count": 9
  },
  {
   "metadata": {
    "ExecuteTime": {
     "end_time": "2024-09-14T10:26:02.148204Z",
     "start_time": "2024-09-14T10:26:02.144203Z"
    }
   },
   "cell_type": "code",
   "source": "print(type(d))",
   "id": "e5a7ba511b2ef358",
   "outputs": [
    {
     "name": "stdout",
     "output_type": "stream",
     "text": [
      "<class 'complex'>\n"
     ]
    }
   ],
   "execution_count": 13
  },
  {
   "metadata": {
    "ExecuteTime": {
     "end_time": "2024-09-14T10:25:12.562575Z",
     "start_time": "2024-09-14T10:25:12.559083Z"
    }
   },
   "cell_type": "code",
   "source": "d = 1j * 1j",
   "id": "e8a9c87802f1becb",
   "outputs": [],
   "execution_count": 12
  },
  {
   "metadata": {
    "ExecuteTime": {
     "end_time": "2024-09-14T10:28:02.931507Z",
     "start_time": "2024-09-14T10:28:02.926945Z"
    }
   },
   "cell_type": "code",
   "source": "print(d, d.real, type(d.real))",
   "id": "4c6f8e0073517616",
   "outputs": [
    {
     "name": "stdout",
     "output_type": "stream",
     "text": [
      "(-1+0j) -1.0 <class 'float'>\n"
     ]
    }
   ],
   "execution_count": 14
  },
  {
   "metadata": {
    "ExecuteTime": {
     "end_time": "2024-09-14T10:31:32.983623Z",
     "start_time": "2024-09-14T10:31:32.979707Z"
    }
   },
   "cell_type": "code",
   "source": "a = 1",
   "id": "b60cfa722783f811",
   "outputs": [],
   "execution_count": 23
  },
  {
   "metadata": {
    "ExecuteTime": {
     "end_time": "2024-09-14T10:31:35.149102Z",
     "start_time": "2024-09-14T10:31:35.144757Z"
    }
   },
   "cell_type": "code",
   "source": [
    "if a == 2:\n",
    "    print(\"I am 2\")\n",
    "elif a == 1:\n",
    "    print(\"I am 1\")\n",
    "    \n",
    "    "
   ],
   "id": "b7ceb265e1295fe3",
   "outputs": [
    {
     "name": "stdout",
     "output_type": "stream",
     "text": [
      "I am 1\n"
     ]
    }
   ],
   "execution_count": 24
  },
  {
   "metadata": {},
   "cell_type": "markdown",
   "source": "# List ",
   "id": "78204893c8467dd8"
  },
  {
   "metadata": {
    "ExecuteTime": {
     "end_time": "2024-09-14T10:33:30.882359Z",
     "start_time": "2024-09-14T10:33:30.878608Z"
    }
   },
   "cell_type": "code",
   "source": "l1 = [1,2,3, 3.2, True , [1,2,3]]",
   "id": "f9bf8a071c02ace5",
   "outputs": [],
   "execution_count": 27
  },
  {
   "metadata": {
    "ExecuteTime": {
     "end_time": "2024-09-14T10:33:32.461708Z",
     "start_time": "2024-09-14T10:33:32.457505Z"
    }
   },
   "cell_type": "code",
   "source": "l1",
   "id": "bc438608d8a5caf5",
   "outputs": [
    {
     "data": {
      "text/plain": [
       "[1, 2, 3, 3.2, True, [1, 2, 3]]"
      ]
     },
     "execution_count": 28,
     "metadata": {},
     "output_type": "execute_result"
    }
   ],
   "execution_count": 28
  },
  {
   "metadata": {
    "ExecuteTime": {
     "end_time": "2024-09-14T10:33:53.803621Z",
     "start_time": "2024-09-14T10:33:53.799261Z"
    }
   },
   "cell_type": "code",
   "source": "print(l1, type(l1))",
   "id": "70cd7ffaadafd3a9",
   "outputs": [
    {
     "name": "stdout",
     "output_type": "stream",
     "text": [
      "[1, 2, 3, 3.2, True, [1, 2, 3]] <class 'list'>\n"
     ]
    }
   ],
   "execution_count": 29
  },
  {
   "metadata": {
    "ExecuteTime": {
     "end_time": "2024-09-14T10:35:46.821852Z",
     "start_time": "2024-09-14T10:35:46.816937Z"
    }
   },
   "cell_type": "code",
   "source": "print(l1[5][2])",
   "id": "dbe52bf68896d87d",
   "outputs": [
    {
     "name": "stdout",
     "output_type": "stream",
     "text": [
      "3\n"
     ]
    }
   ],
   "execution_count": 33
  },
  {
   "metadata": {
    "ExecuteTime": {
     "end_time": "2024-09-14T10:41:10.489440Z",
     "start_time": "2024-09-14T10:41:10.482779Z"
    }
   },
   "cell_type": "code",
   "source": "l1",
   "id": "6f44b1a3311aabb9",
   "outputs": [
    {
     "data": {
      "text/plain": [
       "['samething', 2, 3, 3.2, True, [1, 2, 3]]"
      ]
     },
     "execution_count": 43,
     "metadata": {},
     "output_type": "execute_result"
    }
   ],
   "execution_count": 43
  },
  {
   "metadata": {
    "ExecuteTime": {
     "end_time": "2024-09-14T10:43:56.150210Z",
     "start_time": "2024-09-14T10:43:56.146030Z"
    }
   },
   "cell_type": "code",
   "source": "tuple = (1,2,3)",
   "id": "ed02c2c7edfc5bad",
   "outputs": [],
   "execution_count": 46
  },
  {
   "metadata": {
    "ExecuteTime": {
     "end_time": "2024-09-14T10:46:16.379788Z",
     "start_time": "2024-09-14T10:46:16.375300Z"
    }
   },
   "cell_type": "code",
   "source": "d = { 'a':1, 'b':2, 'c':3 }",
   "id": "15d0d195c31d238b",
   "outputs": [],
   "execution_count": 48
  },
  {
   "metadata": {
    "ExecuteTime": {
     "end_time": "2024-09-14T10:46:52.779895Z",
     "start_time": "2024-09-14T10:46:52.774731Z"
    }
   },
   "cell_type": "code",
   "source": "d['c']",
   "id": "9ab9395c5a8b6678",
   "outputs": [
    {
     "data": {
      "text/plain": [
       "3"
      ]
     },
     "execution_count": 52,
     "metadata": {},
     "output_type": "execute_result"
    }
   ],
   "execution_count": 52
  },
  {
   "metadata": {},
   "cell_type": "code",
   "outputs": [],
   "execution_count": null,
   "source": "",
   "id": "5c987c6126f52355"
  }
 ],
 "metadata": {
  "kernelspec": {
   "display_name": "Python 3",
   "language": "python",
   "name": "python3"
  },
  "language_info": {
   "codemirror_mode": {
    "name": "ipython",
    "version": 2
   },
   "file_extension": ".py",
   "mimetype": "text/x-python",
   "name": "python",
   "nbconvert_exporter": "python",
   "pygments_lexer": "ipython2",
   "version": "2.7.6"
  }
 },
 "nbformat": 4,
 "nbformat_minor": 5
}
